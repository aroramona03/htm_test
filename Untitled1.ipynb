{
  "nbformat": 4,
  "nbformat_minor": 0,
  "metadata": {
    "colab": {
      "provenance": [],
      "gpuType": "T4",
      "mount_file_id": "1_svdJpkl_LbEAw9Upjjr0S4coz0CUmlP",
      "authorship_tag": "ABX9TyOAqTHEy0+XDImw/QoQmoDE",
      "include_colab_link": true
    },
    "kernelspec": {
      "name": "python3",
      "display_name": "Python 3"
    },
    "language_info": {
      "name": "python"
    },
    "accelerator": "GPU"
  },
  "cells": [
    {
      "cell_type": "markdown",
      "metadata": {
        "id": "view-in-github",
        "colab_type": "text"
      },
      "source": [
        "<a href=\"https://colab.research.google.com/github/aroramona03/htm_test/blob/main/Untitled1.ipynb\" target=\"_parent\"><img src=\"https://colab.research.google.com/assets/colab-badge.svg\" alt=\"Open In Colab\"/></a>"
      ]
    },
    {
      "cell_type": "code",
      "source": [
        "# !pip install -q imutils"
      ],
      "metadata": {
        "id": "W-nrtQrr7IYC"
      },
      "execution_count": 4,
      "outputs": []
    },
    {
      "cell_type": "code",
      "source": [
        "# cd /content/drive/MyDrive/csr_sir_segmentation"
      ],
      "metadata": {
        "id": "2Dygwivv7l5c"
      },
      "execution_count": 7,
      "outputs": []
    },
    {
      "cell_type": "code",
      "execution_count": 2,
      "metadata": {
        "colab": {
          "base_uri": "https://localhost:8080/"
        },
        "id": "QNwxLkl0ilhV",
        "outputId": "16cd3e14-de11-46e5-a2ae-a9dc3436054b"
      },
      "outputs": [
        {
          "output_type": "stream",
          "name": "stdout",
          "text": [
            "Drive already mounted at /content/drive; to attempt to forcibly remount, call drive.mount(\"/content/drive\", force_remount=True).\n"
          ]
        }
      ],
      "source": [
        "from google.colab import drive\n",
        "drive.mount('/content/drive')"
      ]
    },
    {
      "cell_type": "code",
      "source": [
        "# import the necessary packages\n",
        "import os\n",
        "import time\n",
        "\n",
        "import cv2\n",
        "import zipfile\n",
        "\n",
        "import torch\n",
        "from torch.nn import ReLU\n",
        "from torch.nn import Conv2d\n",
        "from torch.nn import Module\n",
        "from torch.optim import Adam\n",
        "from torch.nn import MaxPool2d\n",
        "from torch.nn import ModuleList\n",
        "from torchvision import transforms\n",
        "from torch.utils.data import Dataset\n",
        "from torch.nn import ConvTranspose2d\n",
        "from torch.nn import functional as F\n",
        "from torch.nn import BCEWithLogitsLoss\n",
        "from torch.nn import CrossEntropyLoss\n",
        "from torch.utils.data import DataLoader\n",
        "from torchvision.transforms import CenterCrop\n",
        "\n",
        "from sklearn.model_selection import train_test_split\n",
        "\n",
        "\n",
        "from imutils import paths\n",
        "from tqdm import tqdm\n",
        "import matplotlib.pyplot as plt"
      ],
      "metadata": {
        "id": "w8uQsjB2lC1N"
      },
      "execution_count": 3,
      "outputs": []
    },
    {
      "cell_type": "code",
      "source": [
        "# base path of the dataset\n",
        "DATASET_PATH = '/content/drive/MyDrive/Colab Notebooks/Untitled1.ipynb'\n",
        "\n",
        "# define the path to the images and masks dataset\n",
        "IMAGE_DATASET_PATH = os.path.join(DATASET_PATH, \"images\")\n",
        "MASK_DATASET_PATH = os.path.join(DATASET_PATH, \"labels\")\n",
        "\n",
        "# define the test split\n",
        "TEST_SPLIT = 0.10\n",
        "\n",
        "# determine the device to be used for training and evaluation\n",
        "DEVICE = \"cuda\" if torch.cuda.is_available() else \"cpu\"\n",
        "print(DEVICE)\n",
        "# determine if we will be pinning memory during data loading\n",
        "PIN_MEMORY = True if DEVICE == \"cuda\" else False\n",
        "\n",
        "# !ls ./competition_data/train"
      ],
      "metadata": {
        "colab": {
          "base_uri": "https://localhost:8080/"
        },
        "id": "h9Q0PFbRlMma",
        "outputId": "ab6afa0e-1e3c-4c58-8447-5dc7af734cbe"
      },
      "execution_count": 4,
      "outputs": [
        {
          "output_type": "stream",
          "name": "stdout",
          "text": [
            "cuda\n"
          ]
        }
      ]
    },
    {
      "cell_type": "code",
      "source": [
        "# !ls ./competition_data/train/images"
      ],
      "metadata": {
        "id": "T5fJ0O9zpxvm"
      },
      "execution_count": 5,
      "outputs": []
    },
    {
      "cell_type": "code",
      "source": [
        "# define the number of channels in the input, number of classes,\n",
        "# and number of levels in the U-Net model\n",
        "NUM_CHANNELS = 1\n",
        "NUM_CLASSES = 2\n",
        "NUM_LEVELS = 10000\n",
        "\n",
        "# initialize learning rate, number of epochs to train for, and the batch size\n",
        "INIT_LR = 0.0001\n",
        "NUM_EPOCHS = 100\n",
        "BATCH_SIZE = 4\n",
        "\n",
        "# define the input image dimensions\n",
        "INPUT_IMAGE_WIDTH = 128\n",
        "INPUT_IMAGE_HEIGHT = 128\n",
        "\n",
        "# define threshold to filter weak predictions\n",
        "THRESHOLD = 0.5\n",
        "\n",
        "# define the path to the base output directory\n",
        "BASE_OUTPUT = \"output\"\n",
        "\n",
        "# define the path to the output serialized model, model training plot, and testing image paths\n",
        "MODEL_PATH = \"pixel_tgs_salt.pth\"\n",
        "PLOT_PATH = \"plot.png\"\n",
        "TEST_PATHS = \"test_paths.txt\""
      ],
      "metadata": {
        "id": "YJaR_zhKqChA"
      },
      "execution_count": 6,
      "outputs": []
    },
    {
      "cell_type": "code",
      "source": [
        "class SegmentationDataset(Dataset):\n",
        "\tdef __init__(self, imagePaths, maskPaths, transforms):\n",
        "\t\t# store the image and mask filepaths, and augmentation transforms\n",
        "\t\tself.imagePaths = imagePaths\n",
        "\t\tself.maskPaths = maskPaths\n",
        "\t\tself.transforms = transforms\n",
        "\n",
        "\tdef __len__(self):\n",
        "\t\t# return the number of total samples contained in the dataset\n",
        "\t\treturn len(self.imagePaths)\n",
        "\n",
        "\tdef __getitem__(self, idx):\n",
        "\t\t# grab the image path from the current index\n",
        "\t\timagePath = self.imagePaths[idx]\n",
        "\n",
        "\t\t# load the image from disk, swap its channels from BGR to RGB,\n",
        "\t\t# and read the associated mask from disk in grayscale mode\n",
        "\t\timage = cv2.imread(imagePath)\n",
        "\t\timage = cv2.cvtColor(image, cv2.COLOR_BGR2RGB)\n",
        "\t\tmask = cv2.imread(self.maskPaths[idx], 0)\n",
        "\n",
        "\t\t# check to see if we are applying any transformations\n",
        "\t\tif self.transforms is not None:\n",
        "\t\t\t# apply the transformations to both image and its mask\n",
        "\t\t\timage = self.transforms(image)\n",
        "\t\t\tmask = self.transforms(mask)\n",
        "\n",
        "\t\t# return a tuple of the image and its mask\n",
        "\t\treturn (image, mask)"
      ],
      "metadata": {
        "id": "4QuWAiZhqCn_"
      },
      "execution_count": 7,
      "outputs": []
    },
    {
      "cell_type": "code",
      "source": [
        "class Block(Module):\n",
        "\tdef __init__(self, inChannels, outChannels):\n",
        "\t\tsuper().__init__()\n",
        "\t\t# store the convolution and RELU layers\n",
        "\t\tself.conv1 = Conv2d(inChannels, outChannels, 3)\n",
        "\t\tself.relu = ReLU()\n",
        "\t\tself.conv2 = Conv2d(outChannels, outChannels, 3)\n",
        "\n",
        "\tdef forward(self, x):\n",
        "\t\t# apply CONV => RELU => CONV block to the inputs and return it\n",
        "\t\treturn self.conv2(self.relu(self.conv1(x)))"
      ],
      "metadata": {
        "id": "-bC7lVC2qhJe"
      },
      "execution_count": 8,
      "outputs": []
    },
    {
      "cell_type": "code",
      "source": [
        "class Encoder(Module):\n",
        "\tdef __init__(self, channels=(3, 16, 32, 64)):\n",
        "\t\tsuper().__init__()\n",
        "\t\t# store the encoder blocks and maxpooling layer\n",
        "\t\tself.encBlocks = ModuleList([Block(channels[i], channels[i + 1]) for i in range(len(channels) - 1)])\n",
        "\t\tself.pool = MaxPool2d(2)\n",
        "\n",
        "\tdef forward(self, x):\n",
        "\t\t# initialize an empty list to store the intermediate outputs\n",
        "\t\tblockOutputs = []\n",
        "\n",
        "\t\t# loop through the encoder blocks\n",
        "\t\tfor block in self.encBlocks:\n",
        "\t\t\t# pass the inputs through the current encoder block, store the outputs, and then apply maxpooling on the output\n",
        "\t\t\tx = block(x)\n",
        "\t\t\tblockOutputs.append(x)\n",
        "\t\t\tx = self.pool(x)\n",
        "\n",
        "        # return the list containing the intermediate outputs\n",
        "\t\treturn blockOutputs"
      ],
      "metadata": {
        "id": "J8T_sL0Oqx0w"
      },
      "execution_count": 10,
      "outputs": []
    },
    {
      "cell_type": "code",
      "source": [
        "class Decoder(Module):\n",
        "\tdef __init__(self, channels=(64, 32, 16)):\n",
        "\t\tsuper().__init__()\n",
        "\n",
        "\t\t# initialize the number of channels, upsampler blocks, and decoder blocks\n",
        "\t\tself.channels = channels\n",
        "\t\tself.upconvs = ModuleList([ConvTranspose2d(channels[i], channels[i + 1], 2, 2) for i in range(len(channels) - 1)])\n",
        "\t\tself.dec_blocks = ModuleList([Block(channels[i], channels[i + 1]) for i in range(len(channels) - 1)])\n",
        "\n",
        "\tdef forward(self, x, encFeatures):\n",
        "\t\t# loop through the number of channels\n",
        "\t\tfor i in range(len(self.channels) - 1):\n",
        "\t\t\t# pass the inputs through the upsampler blocks\n",
        "\t\t\tx = self.upconvs[i](x)\n",
        "\n",
        "\t\t\t# crop the current features from the encoder blocks, concatenate them with the current upsampled features,\n",
        "\t\t\t# and pass the concatenated output through the current decoder block\n",
        "\t\t\tencFeat = self.crop(encFeatures[i], x)\n",
        "\t\t\tx = torch.cat([x, encFeat], dim=1)\n",
        "\t\t\tx = self.dec_blocks[i](x)\n",
        "\n",
        "\t\t# return the final decoder output\n",
        "\t\treturn x\n",
        "\n",
        "\tdef crop(self, encFeatures, x):\n",
        "\t\t# grab the dimensions of the inputs, and crop the encoder features to match the dimensions\n",
        "\t\t(_, _, H, W) = x.shape\n",
        "\t\tencFeatures = CenterCrop([H, W])(encFeatures)\n",
        "\n",
        "\t\t# return the cropped features\n",
        "\t\treturn encFeatures"
      ],
      "metadata": {
        "id": "uXzajbZRu6kh"
      },
      "execution_count": 11,
      "outputs": []
    },
    {
      "cell_type": "code",
      "source": [
        "class UNet(Module):\n",
        "\tdef __init__(self, encChannels=(3, 16, 32, 64), decChannels=(64, 32, 16), nbClasses=1, retainDim=True, outSize=(INPUT_IMAGE_HEIGHT,  INPUT_IMAGE_WIDTH)):\n",
        "\t\tsuper().__init__()\n",
        "\n",
        "\t\t# initialize the encoder and decoder\n",
        "\t\tself.encoder = Encoder(encChannels)\n",
        "\t\tself.decoder = Decoder(decChannels)\n",
        "\n",
        "\t\t# initialize the regression head and store the class variables\n",
        "\t\tself.head = Conv2d(decChannels[-1], nbClasses, 1)\n",
        "\t\tself.retainDim = retainDim\n",
        "\t\tself.outSize = outSize\n",
        "\n",
        "\tdef forward(self, x):\n",
        "\t\t# grab the features from the encoder\n",
        "\t\tencFeatures = self.encoder(x)\n",
        "\n",
        "\t\t# pass the encoder features through decoder making sure that their dimensions are suited for concatenation\n",
        "\t\tdecFeatures = self.decoder(encFeatures[::-1][0],encFeatures[::-1][1:])\n",
        "\n",
        "\t\t# pass the decoder features through the regression head to obtain the segmentation mask\n",
        "\t\tmap_ = self.head(decFeatures)\n",
        "\n",
        "\t\t# check to see if we are retaining the original output dimensions and if so, then resize the output to match them\n",
        "\t\tif self.retainDim:\n",
        "\t\t\tmap_ = F.interpolate(map_, self.outSize)\n",
        "\n",
        "\t\t# return the segmentation map\n",
        "\t\treturn map_"
      ],
      "metadata": {
        "id": "CaPuBSGbvVG_"
      },
      "execution_count": 12,
      "outputs": []
    },
    {
      "cell_type": "code",
      "source": [
        "# load the image and mask filepaths in a sorted manner\n",
        "imagePaths = sorted(list(paths.list_images(IMAGE_DATASET_PATH)))\n",
        "maskPaths = sorted(list(paths.list_images(MASK_DATASET_PATH)))\n",
        "\n",
        "# partition the data into training and testing splits using 85% of the data for training and the remaining 15% for testing\n",
        "split = train_test_split(imagePaths, maskPaths, test_size=TEST_SPLIT, random_state=42)\n",
        "\n",
        "# unpack the data split\n",
        "(trainImages, testImages) = split[:2]\n",
        "(trainMasks, testMasks) = split[2:]\n",
        "\n",
        "# write the testing image paths to disk so that we can use then when evaluating/testing our model\n",
        "print(\"[INFO] saving testing image paths...\")\n",
        "f = open(\"test_paths.txt\", \"w\")\n",
        "f.write(\"\\n\".join(testImages))\n",
        "f.close()"
      ],
      "metadata": {
        "colab": {
          "base_uri": "https://localhost:8080/",
          "height": 211
        },
        "id": "hdbOPNeP7Fej",
        "outputId": "dee4cf68-34bf-49d8-d999-0c39b803a329"
      },
      "execution_count": 9,
      "outputs": [
        {
          "output_type": "error",
          "ename": "NameError",
          "evalue": "name 'paths' is not defined",
          "traceback": [
            "\u001b[0;31m---------------------------------------------------------------------------\u001b[0m",
            "\u001b[0;31mNameError\u001b[0m                                 Traceback (most recent call last)",
            "\u001b[0;32m/tmp/ipython-input-909045836.py\u001b[0m in \u001b[0;36m<cell line: 0>\u001b[0;34m()\u001b[0m\n\u001b[1;32m      1\u001b[0m \u001b[0;31m# load the image and mask filepaths in a sorted manner\u001b[0m\u001b[0;34m\u001b[0m\u001b[0;34m\u001b[0m\u001b[0m\n\u001b[0;32m----> 2\u001b[0;31m \u001b[0mimagePaths\u001b[0m \u001b[0;34m=\u001b[0m \u001b[0msorted\u001b[0m\u001b[0;34m(\u001b[0m\u001b[0mlist\u001b[0m\u001b[0;34m(\u001b[0m\u001b[0mpaths\u001b[0m\u001b[0;34m.\u001b[0m\u001b[0mlist_images\u001b[0m\u001b[0;34m(\u001b[0m\u001b[0mIMAGE_DATASET_PATH\u001b[0m\u001b[0;34m)\u001b[0m\u001b[0;34m)\u001b[0m\u001b[0;34m)\u001b[0m\u001b[0;34m\u001b[0m\u001b[0;34m\u001b[0m\u001b[0m\n\u001b[0m\u001b[1;32m      3\u001b[0m \u001b[0mmaskPaths\u001b[0m \u001b[0;34m=\u001b[0m \u001b[0msorted\u001b[0m\u001b[0;34m(\u001b[0m\u001b[0mlist\u001b[0m\u001b[0;34m(\u001b[0m\u001b[0mpaths\u001b[0m\u001b[0;34m.\u001b[0m\u001b[0mlist_images\u001b[0m\u001b[0;34m(\u001b[0m\u001b[0mMASK_DATASET_PATH\u001b[0m\u001b[0;34m)\u001b[0m\u001b[0;34m)\u001b[0m\u001b[0;34m)\u001b[0m\u001b[0;34m\u001b[0m\u001b[0;34m\u001b[0m\u001b[0m\n\u001b[1;32m      4\u001b[0m \u001b[0;34m\u001b[0m\u001b[0m\n\u001b[1;32m      5\u001b[0m \u001b[0;31m# partition the data into training and testing splits using 85% of the data for training and the remaining 15% for testing\u001b[0m\u001b[0;34m\u001b[0m\u001b[0;34m\u001b[0m\u001b[0m\n",
            "\u001b[0;31mNameError\u001b[0m: name 'paths' is not defined"
          ]
        }
      ]
    }
  ]
}